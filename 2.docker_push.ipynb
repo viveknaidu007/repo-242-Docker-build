{
 "cells": [
  {
   "cell_type": "code",
   "execution_count": null,
   "metadata": {
    "vscode": {
     "languageId": "plaintext"
    }
   },
   "outputs": [],
   "source": [
    "docker login"
   ]
  },
  {
   "cell_type": "code",
   "execution_count": null,
   "metadata": {
    "vscode": {
     "languageId": "plaintext"
    }
   },
   "outputs": [],
   "source": [
    "#create repositary in docker hub (public or private)\n",
    "\n",
    "docker tag backend:latest your-dockerhub-username/project1:latest\n",
    "\n",
    "#replace this with:\n",
    "backend => image name\n",
    "project1 => ur repository_name\n",
    "your-dockerhub-username => ur username which appers in dockerhub"
   ]
  },
  {
   "cell_type": "code",
   "execution_count": null,
   "metadata": {
    "vscode": {
     "languageId": "plaintext"
    }
   },
   "outputs": [],
   "source": [
    "#for pushing\n",
    "\n",
    "docker push viveknaidu007/project1:latest\n",
    "\n",
    "#this will take some time"
   ]
  },
  {
   "cell_type": "code",
   "execution_count": null,
   "metadata": {
    "vscode": {
     "languageId": "plaintext"
    }
   },
   "outputs": [],
   "source": [
    "#for pulling:\n",
    "\n",
    "docker pull viveknaidu007/project1:latest\n"
   ]
  }
 ],
 "metadata": {
  "language_info": {
   "name": "python"
  }
 },
 "nbformat": 4,
 "nbformat_minor": 2
}
