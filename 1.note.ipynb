{
 "cells": [
  {
   "cell_type": "markdown",
   "metadata": {},
   "source": [
    "Docker image for deploying a Flask app, follow these steps:\n",
    "\n",
    "1. **Create a `Dockerfile`** in your Flask app folder:\n",
    "   ```dockerfile\n",
    "   # Use an official Python runtime as a parent image\n",
    "   FROM python:3.10\n",
    "\n",
    "   # Set the working directory\n",
    "   WORKDIR /app\n",
    "\n",
    "   # Copy the current directory contents into the container\n",
    "   COPY . .\n",
    "\n",
    "   # Install dependencies\n",
    "   RUN pip install --no-cache-dir -r requirements.txt\n",
    "\n",
    "   # Expose the port the app runs on\n",
    "   EXPOSE 5000\n",
    "\n",
    "   # Command to run the app\n",
    "   CMD [\"python\", \"app.py\"]\n",
    "   ```\n",
    "\n",
    "2. **Build the Docker Image:**\n",
    "   Run the following command in the Flask app directory:\n",
    "   ```sh\n",
    "   docker build -t flask-app .\n",
    "   ```\n",
    "\n",
    "3. **Run the Container Locally (For Testing):**\n",
    "   ```sh\n",
    "   docker run -p 5000:5000 flask-app\n",
    "   ```\n",
    "\n",
    "4. **Push to a Container Registry (Optional, for Deployment):**\n",
    "   ```sh\n",
    "   docker tag flask-app your-dockerhub-username/flask-app:latest\n",
    "   docker push your-dockerhub-username/flask-app:latest\n",
    "   ```\n",
    "\n",
    "5. **Deploy on the Server:**\n",
    "   SSH into your server and run:\n",
    "   ```sh\n",
    "   docker pull your-dockerhub-username/flask-app:latest\n",
    "   docker run -d -p 80:5000 flask-app\n",
    "   ```\n",
    "\n"
   ]
  },
  {
   "cell_type": "code",
   "execution_count": null,
   "metadata": {
    "vscode": {
     "languageId": "plaintext"
    }
   },
   "outputs": [],
   "source": [
    "#6:create this in root\n",
    "\n",
    ".dockerignore\n",
    "\n",
    "#inside add this\n",
    ".env"
   ]
  },
  {
   "cell_type": "code",
   "execution_count": null,
   "metadata": {
    "vscode": {
     "languageId": "plaintext"
    }
   },
   "outputs": [],
   "source": [
    "#7:for running docker with env file path\n",
    "\n",
    "docker run --env-file .env -p 5000:5000 backend"
   ]
  },
  {
   "cell_type": "code",
   "execution_count": null,
   "metadata": {
    "vscode": {
     "languageId": "plaintext"
    }
   },
   "outputs": [],
   "source": []
  }
 ],
 "metadata": {
  "language_info": {
   "name": "python"
  }
 },
 "nbformat": 4,
 "nbformat_minor": 2
}
