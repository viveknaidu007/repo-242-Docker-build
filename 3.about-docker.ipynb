{
 "cells": [
  {
   "cell_type": "markdown",
   "id": "d3a4e843",
   "metadata": {
    "vscode": {
     "languageId": "plaintext"
    }
   },
   "source": [
    "# Docker image vs container"
   ]
  },
  {
   "cell_type": "markdown",
   "id": "ad654b51",
   "metadata": {},
   "source": [
    "The difference between **Docker containers** and **Docker images** is fundamental to understanding how Docker works:\n",
    "\n",
    "---\n",
    "\n",
    "### 🧱 Docker Image:\n",
    "\n",
    "* **Definition:** A **Docker image** is a **read-only template** that contains everything needed to run an application—code, runtime, libraries, environment variables, and configuration files.\n",
    "* **Think of it as:** A **blueprint** or **recipe**.\n",
    "* **State:** Static and unchangeable.\n",
    "* **Usage:** Used to **create containers**.\n",
    "\n",
    "📌 Example:\n",
    "You might have an image for a Node.js app that includes Node, your app code, and dependencies.\n",
    "\n",
    "---\n",
    "\n",
    "### 🚢 Docker Container:\n",
    "\n",
    "* **Definition:** A **Docker container** is a **running instance** of a Docker image. It’s the live, executable version of an image.\n",
    "* **Think of it as:** A **house built from a blueprint**.\n",
    "* **State:** Mutable (you can run processes, make changes inside).\n",
    "* **Usage:** Used to **run and test applications**.\n",
    "\n",
    "📌 Example:\n",
    "When you run `docker run node-app`, Docker creates a container from the `node-app` image.\n",
    "\n",
    "---\n",
    "\n",
    "### 🔁 Summary Table:\n",
    "\n",
    "| Feature     | Docker Image                      | Docker Container             |\n",
    "| ----------- | --------------------------------- | ---------------------------- |\n",
    "| Nature      | Read-only template                | Running instance of an image |\n",
    "| Lifecycle   | Passive; used to spawn containers | Active; created from images  |\n",
    "| Usage       | Build and distribute applications | Run and manage applications  |\n",
    "| Persistence | Does not change                   | Can change during runtime    |\n",
    "\n",
    "---\n",
    "\n"
   ]
  }
 ],
 "metadata": {
  "language_info": {
   "name": "python"
  }
 },
 "nbformat": 4,
 "nbformat_minor": 5
}
